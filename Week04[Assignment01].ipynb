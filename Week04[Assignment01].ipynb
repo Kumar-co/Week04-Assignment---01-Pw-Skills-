{
  "nbformat": 4,
  "nbformat_minor": 0,
  "metadata": {
    "colab": {
      "provenance": []
    },
    "kernelspec": {
      "name": "python3",
      "display_name": "Python 3"
    },
    "language_info": {
      "name": "python"
    }
  },
  "cells": [
    {
      "cell_type": "code",
      "execution_count": 2,
      "metadata": {
        "colab": {
          "base_uri": "https://localhost:8080/"
        },
        "id": "tctxVdKqaX4F",
        "outputId": "9061ca44-96b8-4546-cd67-38a059782786"
      },
      "outputs": [
        {
          "output_type": "stream",
          "name": "stdout",
          "text": [
            "Vehicle Name: Toyota Camry\n",
            "Max Speed: 220 km/h\n",
            "Average: 15 km/l\n"
          ]
        }
      ],
      "source": [
        "'''Q1, Create a vehicle class with an init method having instance variables as name_of_vehicle, max_speed\n",
        "and average_of_vehicle.'''\n",
        "#Answer\n",
        "class Vehicle:\n",
        "    def __init__(self, name_of_vehicle, max_speed, average_of_vehicle):\n",
        "        self.name_of_vehicle = name_of_vehicle\n",
        "        self.max_speed = max_speed\n",
        "        self.average_of_vehicle = average_of_vehicle\n",
        "\n",
        "    def __str__(self):\n",
        "        return (f\"Vehicle Name: {self.name_of_vehicle}\\n\"\n",
        "                f\"Max Speed: {self.max_speed} km/h\\n\"\n",
        "                f\"Average: {self.average_of_vehicle} km/l\")\n",
        "\n",
        "# Example usage:\n",
        "car = Vehicle(\"Toyota Camry\", 220, 15)\n",
        "print(car)\n"
      ]
    },
    {
      "cell_type": "code",
      "source": [
        "'''Q2. Create a child class car from the vehicle class created in Que 1, which will inherit the vehicle class.\n",
        "Create a method named seating_capacity which takes capacity as an argument and returns the name of\n",
        "the vehicle and its seating capacity.'''\n",
        "#Answer\n",
        "# Parent class\n",
        "class Vehicle:\n",
        "    def __init__(self, name_of_vehicle, max_speed, average_of_vehicle):\n",
        "        self.name_of_vehicle = name_of_vehicle\n",
        "        self.max_speed = max_speed\n",
        "        self.average_of_vehicle = average_of_vehicle\n",
        "\n",
        "    def __str__(self):\n",
        "        return (f\"Vehicle Name: {self.name_of_vehicle}\\n\"\n",
        "                f\"Max Speed: {self.max_speed} km/h\\n\"\n",
        "                f\"Average: {self.average_of_vehicle} km/l\")\n",
        "\n",
        "# Child class\n",
        "class Car(Vehicle):\n",
        "    def __init__(self, name_of_vehicle, max_speed, average_of_vehicle):\n",
        "        super().__init__(name_of_vehicle, max_speed, average_of_vehicle)\n",
        "\n",
        "    def seating_capacity(self, capacity):\n",
        "        return (f\"The {self.name_of_vehicle} has a seating capacity of {capacity} people.\")\n",
        "\n",
        "# Example usage:\n",
        "my_car = Car(\"Toyota Camry\", 220, 15)\n",
        "print(my_car)  # Printing the details of the vehicle\n",
        "print(my_car.seating_capacity(5))  # Printing the seating capacity of the car\n"
      ],
      "metadata": {
        "colab": {
          "base_uri": "https://localhost:8080/"
        },
        "id": "uPk2ntAoa3AT",
        "outputId": "fc7365ca-7128-4254-f648-cb4c3ce49a34"
      },
      "execution_count": 4,
      "outputs": [
        {
          "output_type": "stream",
          "name": "stdout",
          "text": [
            "Vehicle Name: Toyota Camry\n",
            "Max Speed: 220 km/h\n",
            "Average: 15 km/l\n",
            "The Toyota Camry has a seating capacity of 5 people.\n"
          ]
        }
      ]
    },
    {
      "cell_type": "code",
      "source": [
        "'''Q3. What is multiple inheritance? Write a python code to demonstrate multiple inheritance.'''\n",
        "#Ansswer\n",
        "'''Multiple inheritance in object-oriented programming is a feature that allows a class to inherit from\n",
        " more than one parent class. This means that a derived class can inherit attributes and methods from multiple base classes.\n",
        "\n",
        "Key Points about Multiple Inheritance:\n",
        "Inheritance of Attributes and Methods: A class derived from multiple base classes inherits attributes and\n",
        " methods from all of its base classes.\n",
        "Method Resolution Order (MRO): Python uses a specific algorithm called C3 linearization to determine the method\n",
        "resolution order in the presence of multiple inheritance. This ensures a consistent method resolution order.\n",
        "Potential for Ambiguity: Multiple inheritance can lead to ambiguity if the same method or attribute exists in more than one\n",
        " base class. Python’s MRO helps to resolve this ambiguity.\n",
        "Example of Multiple Inheritance in Python\n",
        "Let's demonstrate multiple inheritance with a simple example. We'll create three classes: Engine, Transmission, and Car. The Car\n",
        " class will inherit from both Engine and Transmission.'''\n",
        "\n",
        " # Base class 1\n",
        "class Engine:\n",
        "    def __init__(self, engine_type):\n",
        "        self.engine_type = engine_type\n",
        "\n",
        "    def start_engine(self):\n",
        "        return f\"Starting the {self.engine_type} engine.\"\n",
        "\n",
        "# Base class 2\n",
        "class Transmission:\n",
        "    def __init__(self, transmission_type):\n",
        "        self.transmission_type = transmission_type\n",
        "\n",
        "    def change_gear(self):\n",
        "        return f\"Changing to {self.transmission_type} transmission.\"\n",
        "\n",
        "# Derived class using multiple inheritance\n",
        "class Car(Engine, Transmission):\n",
        "    def __init__(self, engine_type, transmission_type, model_name):\n",
        "        Engine.__init__(self, engine_type)\n",
        "        Transmission.__init__(self, transmission_type)\n",
        "        self.model_name = model_name\n",
        "\n",
        "    def car_info(self):\n",
        "        return (f\"Model: {self.model_name}\\n\"\n",
        "                f\"{self.start_engine()}\\n\"\n",
        "                f\"{self.change_gear()}\")\n",
        "\n",
        "# Example usage\n",
        "my_car = Car(\"V8\", \"automatic\", \"Toyota Camry\")\n",
        "print(my_car.car_info())\n"
      ],
      "metadata": {
        "colab": {
          "base_uri": "https://localhost:8080/"
        },
        "id": "8_qwr6u_biYW",
        "outputId": "3aff88c6-dbe8-4471-e58c-659648d793e4"
      },
      "execution_count": 2,
      "outputs": [
        {
          "output_type": "stream",
          "name": "stdout",
          "text": [
            "Model: Toyota Camry\n",
            "Starting the V8 engine.\n",
            "Changing to automatic transmission.\n"
          ]
        }
      ]
    },
    {
      "cell_type": "code",
      "source": [
        "'''Q4. What are getter and setter in python? Create a class and create a getter and a setter method in this\n",
        "class.'''\n",
        "#Answer\n",
        "'''In Python, getter and setter methods are used to access and modify private attributes of a class. They provide\n",
        " a way to control access to an attribute and encapsulate the attribute’s value. This approach helps maintain the integrity\n",
        " of the data by allowing validation or transformation when getting or setting a value.\n",
        "\n",
        "Key Concepts:\n",
        "Getter: A method used to retrieve the value of a private attribute.\n",
        "Setter: A method used to set or modify the value of a private attribute.\n",
        "Example\n",
        "Here’s a Python class that demonstrates the use of getter and setter methods. In this example, we'll create a class Person\n",
        " with a private attribute _age and provide getter and setter methods to access and modify _age.'''\n",
        "class Person:\n",
        "    def __init__(self, name, age):\n",
        "        self.name = name\n",
        "        self._age = age  # Private attribute\n",
        "\n",
        "    @property\n",
        "    def age(self):\n",
        "        \"\"\"Getter for the age attribute.\"\"\"\n",
        "        return self._age\n",
        "\n",
        "    @age.setter\n",
        "    def age(self, value):\n",
        "        \"\"\"Setter for the age attribute. Adds validation to ensure age is non-negative.\"\"\"\n",
        "        if value < 0:\n",
        "            raise ValueError(\"Age cannot be negative.\")\n",
        "        self._age = value\n",
        "\n",
        "    def __str__(self):\n",
        "        return f\"Name: {self.name}, Age: {self._age}\"\n",
        "\n",
        "# Example usage\n",
        "person = Person(\"Alice\", 30)\n",
        "print(person)  # Output: Name: Alice, Age: 30\n",
        "\n",
        "# Accessing age using the getter\n",
        "print(person.age)  # Output: 30\n",
        "\n",
        "# Modifying age using the setter\n",
        "person.age = 35\n",
        "print(person)  # Output: Name: Alice, Age: 35\n",
        "\n",
        "# Attempting to set a negative age will raise an exception\n",
        "try:\n",
        "    person.age = -5\n",
        "except ValueError as e:\n",
        "    print(e)  # Output: Age cannot be negative.\n",
        "\n",
        "\n"
      ],
      "metadata": {
        "colab": {
          "base_uri": "https://localhost:8080/"
        },
        "id": "O91CjJI1R206",
        "outputId": "fe3220e8-5b41-4980-c0d2-1fab6c91f706"
      },
      "execution_count": 5,
      "outputs": [
        {
          "output_type": "stream",
          "name": "stdout",
          "text": [
            "Name: Alice, Age: 30\n",
            "30\n",
            "Name: Alice, Age: 35\n",
            "Age cannot be negative.\n"
          ]
        }
      ]
    },
    {
      "cell_type": "code",
      "source": [
        "'''Q5.What is method overriding in python? Write a python code to demonstrate method overriding.'''\n",
        "#Answer\n",
        "'''In Python, getter and setter methods are used to access and modify private attributes of a class.\n",
        "They provide a way to control access to an attribute and encapsulate the attribute’s value. This approach\n",
        "helps maintain the integrity of the data by allowing validation or transformation when getting or setting a value.\n",
        "\n",
        "Key Concepts:\n",
        "Getter: A method used to retrieve the value of a private attribute.\n",
        "Setter: A method used to set or modify the value of a private attribute.\n",
        "Example\n",
        "Here’s a Python class that demonstrates the use of getter and setter methods. In this example, we'll create a class\n",
        "Person with a private attribute _age and provide getter and setter methods to access and modify _age.'''\n",
        "\n",
        "# Base class\n",
        "class Animal:\n",
        "    def speak(self):\n",
        "        return \"Animal makes a sound.\"\n",
        "\n",
        "# Derived class that overrides the speak method\n",
        "class Dog(Animal):\n",
        "    def speak(self):\n",
        "        return \"Dog barks.\"\n",
        "\n",
        "# Another derived class that also overrides the speak method\n",
        "class Cat(Animal):\n",
        "    def speak(self):\n",
        "        return \"Cat meows.\"\n",
        "\n",
        "# Example usage\n",
        "def make_animal_speak(animal):\n",
        "    print(animal.speak())\n",
        "\n",
        "# Create instances of the classes\n",
        "generic_animal = Animal()\n",
        "dog = Dog()\n",
        "cat = Cat()\n",
        "\n",
        "# Demonstrate method overriding\n",
        "make_animal_speak(generic_animal)  # Output: Animal makes a sound.\n",
        "make_animal_speak(dog)             # Output: Dog barks.\n",
        "make_animal_speak(cat)             # Output: Cat meows.\n"
      ],
      "metadata": {
        "colab": {
          "base_uri": "https://localhost:8080/"
        },
        "id": "ql23IJkFS_M4",
        "outputId": "2bbf225e-0d2d-44bd-9675-51d44268b8d7"
      },
      "execution_count": 7,
      "outputs": [
        {
          "output_type": "stream",
          "name": "stdout",
          "text": [
            "Animal makes a sound.\n",
            "Dog barks.\n",
            "Cat meows.\n"
          ]
        }
      ]
    }
  ]
}